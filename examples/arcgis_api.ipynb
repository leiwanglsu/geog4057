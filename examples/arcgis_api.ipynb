{
 "cells": [
  {
   "cell_type": "markdown",
   "metadata": {},
   "source": [
    "## Get a feature layer from the arcgis portal\n",
    "\n",
    "- In ArcGIS Pro catelog, search for nhd watershed and find the USGS Watershed Boundary Dataset (WBD)\n",
    "- Click the path and open its webpage in ArcGIS Online\n",
    "- Scroll down the page to find the url and open the link\n",
    "- Find 12-digit HU from the layers and click the link\n",
    "- From the address bar, copy the address: https://hydro.nationalmap.gov/arcgis/rest/services/wbd/MapServer/6\n",
    "- Use the address in the FeatureLayer argument below"
   ]
  },
  {
   "cell_type": "code",
   "execution_count": null,
   "metadata": {},
   "outputs": [],
   "source": [
    "## define the feature layer object\n",
    "\n",
    "from arcgis.gis import GIS\n",
    "from arcgis.features import FeatureLayer\n",
    "\n",
    "# Connect to your ArcGIS Online or ArcGIS Enterprise account\n",
    "gis = GIS()\n",
    "# Create a FeatureLayer object representing your hosted feature layer\n",
    "\n",
    "fl = FeatureLayer(\"https://hydro.nationalmap.gov/arcgis/rest/services/wbd/MapServer/6\")\n"
   ]
  },
  {
   "cell_type": "code",
   "execution_count": 29,
   "metadata": {},
   "outputs": [
    {
     "data": {
      "text/plain": [
       "4269"
      ]
     },
     "execution_count": 29,
     "metadata": {},
     "output_type": "execute_result"
    }
   ],
   "source": [
    "## Find a raster for the extent in a query \n",
    "import arcpy\n",
    "\n",
    "raster = arcpy.Raster(r'E:\\teaching\\materials\\python scripting arcgis\\Ex10\\tm.img')\n",
    "sr = raster.spatialReference\n",
    "extent = raster.extent\n",
    "sr.factoryCode"
   ]
  },
  {
   "cell_type": "code",
   "execution_count": 27,
   "metadata": {},
   "outputs": [],
   "source": [
    "## Use the extent and sr to define a spatial query object\n",
    "from arcgis.geometry.filters import contains\n",
    "\n",
    "query_extent = {\n",
    "    \"xmin\": extent.XMin,\n",
    "    \"ymin\": extent.YMin,\n",
    "    \"xmax\": extent.XMax,\n",
    "    \"ymax\": extent.YMax,\n",
    "    \"spatialReference\": {\n",
    "        \"wkid\": sr.factoryCode\n",
    "        },\n",
    "}\n",
    "\n",
    "query_filter = contains(query_extent, sr=sr.factoryCode)\n",
    "sr.factoryCode\n",
    "query_filter = contains(extent)\n",
    "features = fl.query(geometry_filter=query_filter, out_fields=\"huc12\")\n"
   ]
  },
  {
   "cell_type": "code",
   "execution_count": 28,
   "metadata": {},
   "outputs": [
    {
     "data": {
      "text/plain": [
       "'E:\\\\workspace\\\\watershed_HUC12.shp'"
      ]
     },
     "execution_count": 28,
     "metadata": {},
     "output_type": "execute_result"
    }
   ],
   "source": [
    "# Save features as a shapefile\n",
    "sdf = features.sdf\n",
    "sdf.spatial.to_featureclass(location= r\"E:\\workspace\\watershed_HUC12.shp\")"
   ]
  }
 ],
 "metadata": {
  "kernelspec": {
   "display_name": "arcpy_clone",
   "language": "python",
   "name": "python3"
  },
  "language_info": {
   "codemirror_mode": {
    "name": "ipython",
    "version": 3
   },
   "file_extension": ".py",
   "mimetype": "text/x-python",
   "name": "python",
   "nbconvert_exporter": "python",
   "pygments_lexer": "ipython3",
   "version": "3.11.8"
  }
 },
 "nbformat": 4,
 "nbformat_minor": 2
}
