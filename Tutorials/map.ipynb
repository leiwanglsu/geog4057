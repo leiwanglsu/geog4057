{
 "cells": [
  {
   "cell_type": "code",
   "execution_count": 1,
   "metadata": {},
   "outputs": [],
   "source": [
    "import arcpy\n",
    "aprx4057 = arcpy.mp.ArcGISProject(r\"C:\\Users\\leiwang\\Documents\\ArcGIS\\Projects\\GEOG4057\\GEOG4057.aprx\")"
   ]
  },
  {
   "cell_type": "code",
   "execution_count": 11,
   "metadata": {},
   "outputs": [
    {
     "name": "stdout",
     "output_type": "stream",
     "text": [
      "[{'toolboxPath': 'C:\\\\Users\\\\leiwang\\\\Documents\\\\ArcGIS\\\\Projects\\\\GEOG4057\\\\GEOG4057.atbx', 'isDefaultToolbox': True}]\n"
     ]
    }
   ],
   "source": [
    "print(aprx4057.toolboxes)"
   ]
  },
  {
   "cell_type": "code",
   "execution_count": 8,
   "metadata": {},
   "outputs": [
    {
     "name": "stdout",
     "output_type": "stream",
     "text": [
      "0 :Map\n",
      "1 :Map1\n",
      "2 :Map2\n"
     ]
    }
   ],
   "source": [
    "import arcpy\n",
    "aprx = arcpy.mp.ArcGISProject(r\"C:\\Users\\leiwang\\Documents\\ArcGIS\\Projects\\GEOG4057\\GEOG4057.aprx\")\n",
    "maps = aprx.listMaps()\n",
    "for index, m in enumerate(maps):\n",
    "    print(f\"{index} :{m.name}\")\n",
    "del aprx"
   ]
  },
  {
   "cell_type": "code",
   "execution_count": 8,
   "metadata": {},
   "outputs": [
    {
     "name": "stdout",
     "output_type": "stream",
     "text": [
      "New Orleans Trees 20240927095855 is a group layer\n",
      "New_Orleans_Trees_20240927095855 is a feature layer\n",
      "World Topographic Map is a basemap layer\n",
      "World Hillshade is a basemap layer\n"
     ]
    }
   ],
   "source": [
    "import arcpy\n",
    "aprx = arcpy.mp.ArcGISProject(r\"C:\\Users\\leiwang\\Documents\\ArcGIS\\Projects\\GEOG4057\\GEOG4057.aprx\")\n",
    "m = aprx.listMaps()[0]\n",
    "lyrs = m.listLayers()\n",
    "for lyr in lyrs:\n",
    "    if lyr.isBasemapLayer:\n",
    "        print(lyr.name + \" is a basemap layer\")\n",
    "    elif lyr.isFeatureLayer:\n",
    "        print(lyr.name + \" is a feature layer\")\n",
    "    elif lyr.isRasterLayer:\n",
    "        print(lyr.name + \" is a raster layer\")\n",
    "    elif lyr.isGroupLayer:\n",
    "        print(lyr.name + \" is a group layer\")\n",
    "    else:\n",
    "        print(lyr)\n",
    "del aprx"
   ]
  }
 ],
 "metadata": {
  "kernelspec": {
   "display_name": "arcpy_clone",
   "language": "python",
   "name": "python3"
  },
  "language_info": {
   "codemirror_mode": {
    "name": "ipython",
    "version": 3
   },
   "file_extension": ".py",
   "mimetype": "text/x-python",
   "name": "python",
   "nbconvert_exporter": "python",
   "pygments_lexer": "ipython3",
   "version": "3.11.10"
  }
 },
 "nbformat": 4,
 "nbformat_minor": 2
}
