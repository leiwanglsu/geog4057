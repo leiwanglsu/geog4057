{
 "cells": [
  {
   "cell_type": "markdown",
   "metadata": {},
   "source": [
    "# Introduction\n",
    " In this assignment, you will do exercises on arcpy.Exists(), arcpy.Walk(), arcpy.da.Describe(), python list comprehension, arcpy.da.SearchCursor, and arcpy.da.InsertCursor(). In each section, a code block is provided but not ready to run. You need to add this notebook to ArcGIS Pro, modify each block to make it runable, keep the output message , and write an explanation of the code block. \n",
    "\n",
    " Data preparation: \n",
    " Download the points.csv from the data folder. "
   ]
  },
  {
   "cell_type": "markdown",
   "metadata": {},
   "source": [
    "## First, let's use ArcToolbox tools to convert the csv to a feature class (10 pnts)\n",
    "\n",
    "- In ArcGIS Pro, search for \"XYTable to Point\"\n",
    "- In the dialog, put the \"point.csv\" from this folder as the input table\n",
    "- Name the output something like \"point_fromxy\"\n",
    "- Before, you run the model, in the Run button, click the small triangle and select \"Copy Python Command\"\n",
    "- Paste your python code below in the code block\n",
    "- Run the code block to make sure it works\n",
    "- Compare the python code and the ArcGIS Pro Geoprocessing pane dialog interface \n"
   ]
  },
  {
   "cell_type": "code",
   "execution_count": 2,
   "metadata": {},
   "outputs": [],
   "source": [
    "# To get the 10 points \n",
    "# Paste the python code from the above instruction here\n",
    "# make sure you start with import arcpy\n",
    "\n"
   ]
  },
  {
   "cell_type": "markdown",
   "metadata": {},
   "source": [
    "## Commentignt the example code:(20 pnts)\n",
    " - Using InsertCursor to do the same thing but project the geometry to a different spatial reference \n",
    "\n",
    "- The above code only imports the csv to a feature class but not converting from a GCS to a project coordinate system\n",
    "- We will use the following code to do the work and project the data to \"NAD 1983 USGS Contiguous USA Albers\" system with the WKID = 102039\n",
    "- Look the code up from here: https://epsg.io/102039"
   ]
  },
  {
   "cell_type": "code",
   "execution_count": 16,
   "metadata": {},
   "outputs": [
    {
     "name": "stdout",
     "output_type": "stream",
     "text": [
      "New point feature class 'point_albers' created in 'C:\\Users\\leiwang\\Documents\\ArcGIS\\Projects\\GEOG4057\\GEOG4057.gdb' with 5 fields.\n"
     ]
    }
   ],
   "source": [
    "import arcpy\n",
    "import csv\n",
    "import os\n",
    "\n",
    "# Edit the path names for your case\n",
    "csv_file_path = r\"C:\\Users\\leiwang\\Documents\\geog4057\\Homeworks\\points.csv\"\n",
    "geodatabase_path = r\"C:\\Users\\leiwang\\Documents\\ArcGIS\\Projects\\GEOG4057\\GEOG4057.gdb\"\n",
    "feature_class_name = \"point_albers\"\n",
    "\n",
    "# Determine the number of fields and field names from the CSV header\n",
    "with open(csv_file_path, 'r') as csv_file:\n",
    "    csv_reader = csv.reader(csv_file)\n",
    "    header = next(csv_reader)\n",
    "    num_fields = len(header)\n",
    "\n",
    "# Create SpatialReference objects: \n",
    "sr_gcs = arcpy.SpatialReference(4269) \n",
    "sr_albsers = arcpy.SpatialReference(102039)\n",
    "#delete if the feature class exists\n",
    "\n",
    "fcName = os.path.join(geodatabase_path,feature_class_name)\n",
    "\n",
    "if arcpy.Exists(fcName):\n",
    "    arcpy.management.Delete(fcName)\n",
    "\n",
    "\n",
    "# Create a new point feature class\n",
    "\n",
    "arcpy.CreateFeatureclass_management(geodatabase_path, feature_class_name, \"POINT\", spatial_reference=sr_albsers)\n",
    "# Add fields to the feature class based on the CSV header\n",
    "\n",
    "# first, read the exisint fields \n",
    "describe = arcpy.da.Describe(fcName)\n",
    "field_names = [field.name for field in describe[\"fields\"]]\n",
    "\n",
    "\n",
    "for field in header:\n",
    "    if field not in field_names:\n",
    "        arcpy.AddField_management(fcName, field, \"TEXT\")\n",
    "\n",
    "# Create a cursor for inserting point features with additional fields\n",
    "cursor_fields = [\"SHAPE@\"] + header\n",
    "with arcpy.da.InsertCursor(fcName, cursor_fields) as cursor:\n",
    "    # Read data from the CSV file and create point features with attributes\n",
    "    with open(csv_file_path, 'r') as csv_file:\n",
    "        csv_reader = csv.reader(csv_file)\n",
    "        \n",
    "        # Skip the header row (if present)\n",
    "        next(csv_reader, None)\n",
    "        \n",
    "        for table_value in csv_reader:\n",
    "            x = float(table_value[0]) # note that the first two fields in the csv must be longitude and latitude\n",
    "            y = float(table_value[1])\n",
    "            pnt = arcpy.PointGeometry(arcpy.Point(x,y),sr_gcs)\n",
    "            pnt_alberse = pnt.projectAs(sr_albsers)\n",
    "\n",
    "            row = (pnt_alberse,) + tuple(table_value)\n",
    "            cursor.insertRow(row)\n",
    "\n",
    "print(f\"New point feature class '{feature_class_name}' created in '{geodatabase_path}' with {num_fields} fields.\")\n",
    "\n"
   ]
  },
  {
   "cell_type": "markdown",
   "metadata": {},
   "source": [
    "**Edit this block to answer these three questions**\n",
    "\n",
    "Q1: Line by line, explain what was done in the code. (10 pnts)\n",
    "\n",
    "Q2: What do the cod 4269 and 102309 represent? (5 pnts)\n",
    "\n",
    "Q3: Explain what is SHAPE@ (5 pnts)"
   ]
  },
  {
   "cell_type": "markdown",
   "metadata": {},
   "source": [
    "## Use arcpy.Exist() (10 pnts)\n",
    "\n",
    "- This code checks the existence of a specified dataset within an ArcGIS workspace.\n",
    "- Fill the dataset_name and workspace_path variables with the database and the feature class name (points) from the last block\n",
    "- Print a message indicating whether the dataset exists or not."
   ]
  },
  {
   "cell_type": "code",
   "execution_count": null,
   "metadata": {},
   "outputs": [],
   "source": [
    "import arcpy\n",
    "import os\n",
    "\n",
    "# Prompt for user input\n",
    "dataset_name = \"points\"\n",
    "workspace_path = \"Enter the workspace path: \"\n",
    "fullname = os.path.join(workspace_path,dataset_name)\n",
    "# Check if the dataset exists\n",
    "if arcpy.Exists(fullname):\n",
    "    print(f\"The dataset '{dataset_name}' exists in the workspace.\")\n",
    "else:\n",
    "    print(f\"The dataset '{dataset_name}' does not exist in the workspace.\")"
   ]
  },
  {
   "cell_type": "markdown",
   "metadata": {},
   "source": [
    "**Edit this block to answer the question**\n",
    "\n",
    "Q4: Line by line describe what was done by the code in the block above. (10 pnts) \n",
    "\n"
   ]
  },
  {
   "cell_type": "markdown",
   "metadata": {},
   "source": [
    "## Use arcpy.Walk() (10 pnts)\n",
    "\n",
    "- This code uses arcpy.Walk() to iterate through all feature datasets in the geodatabase you just used.\n",
    "- Modify the name of \"workspace\" to make the code work\n",
    "- Run the code to list all the feature classes within each dataset.\n"
   ]
  },
  {
   "cell_type": "code",
   "execution_count": null,
   "metadata": {},
   "outputs": [],
   "source": [
    "import arcpy\n",
    "\n",
    "# Define the workspace\n",
    "workspace = \"C:/path_to_geodatabase.gdb\" # note that you need to put a full path name for this workspace, even running it in ArcGIS Pro. \n",
    "\n",
    "# Use arcpy.Walk() to iterate through feature datasets\n",
    "for dirpath, dirnames, filenames in arcpy.da.Walk(workspace, datatype=\"FeatureClass\"):\n",
    "    for filename in filenames:\n",
    "        print(f\"Feature Class in {dirpath}: {filename}\")"
   ]
  },
  {
   "cell_type": "markdown",
   "metadata": {},
   "source": [
    "**Edit this block to answer the question**\n",
    "\n",
    "Q5: line by line, describe what was done by the code in the block above. (10 pnts)\n"
   ]
  },
  {
   "cell_type": "markdown",
   "metadata": {},
   "source": [
    "## Use List Comprehension (10 pnts)\n",
    "\n",
    "- The following block uses list comprehension to generate a list of .shp files in a specified folder.\n",
    "- Choose the folder name from assignment 4 data/paris subfolder where many shapefiles are located and use it for folder_path\n",
    "- Run the code to print the list of file names\n",
    "\n",
    "\n",
    "- In the second block, the code combines the os.walk() function with the list comprehension to  list all shapefiles in a folder including subfolders\n",
    "\n"
   ]
  },
  {
   "cell_type": "code",
   "execution_count": null,
   "metadata": {},
   "outputs": [],
   "source": [
    "import os\n",
    "\n",
    "# Specify the folder path\n",
    "folder_path = \"C:/path_to_folder\"\n",
    "\n",
    "# Use list comprehension to generate a list of .shp files\n",
    "shp_files = [file for file in os.listdir(folder_path) if file.endswith(\".shp\")]\n",
    "\n",
    "# Print the list of .shp files\n",
    "print(\"Shapefiles in the folder:\")\n",
    "for shp_file in shp_files:\n",
    "    print(shp_file)"
   ]
  },
  {
   "cell_type": "code",
   "execution_count": null,
   "metadata": {},
   "outputs": [],
   "source": [
    "import os\n",
    "# Specify the folder path\n",
    "folder_path = \"C:/path_to_folder\"\n",
    "\n",
    "print(\"Shapefiles in the folder:\")\n",
    "for root, dirs, files in os.walk(folder_path):\n",
    "    shp_files = [file for file in files if file.endswith(\".shp\")]\n",
    "    for shp_file in shp_files:\n",
    "            print(shp_file)"
   ]
  },
  {
   "cell_type": "markdown",
   "metadata": {},
   "source": [
    "**Edit this block to answer the question**\n",
    "\n",
    "Q6: Describe what was done by the code in first blocks above. (5 pnts)\n",
    "\n",
    "Q7: Describe what was done by the code in second blocks above. (5 pnts)"
   ]
  },
  {
   "cell_type": "markdown",
   "metadata": {},
   "source": [
    "## Use arcpy.da.SearchCursor (10 pnts)\n",
    "\n",
    "- This code uses arcpy.da.SearchCursor to extract attribute information from a feature class.\n",
    "- Enter the name of the \"points\" feature class and the field(s) from the feature class to extract.\n",
    "- Run and display the extracted data.\n"
   ]
  },
  {
   "cell_type": "code",
   "execution_count": null,
   "metadata": {},
   "outputs": [],
   "source": [
    "import arcpy\n",
    "\n",
    "# Prompt for user input\n",
    "fc_path = \"Enter the feature class path: \"\n",
    "fields_to_extract = [\"Enter the field(s) to extract (comma-separated): \"]\n",
    "\n",
    "# Use arcpy.da.SearchCursor to extract data\n",
    "with arcpy.da.SearchCursor(fc_path, fields_to_extract) as cursor:\n",
    "    print(\"Extracted Data:\")\n",
    "    for row in cursor:\n",
    "        print([row[i] for i in range(len(fields_to_extract))])"
   ]
  },
  {
   "cell_type": "markdown",
   "metadata": {},
   "source": [
    "**Edit this block to answer the question**\n",
    "\n",
    "Q8: Line by line, explain what was done in the code. 10 pnts "
   ]
  },
  {
   "cell_type": "markdown",
   "metadata": {},
   "source": [
    "## Use addField and field Calculator (20 pnts)\n",
    "\n",
    "- Run the following code block (with \"points\" feature class added to the last map before you switched into the notebook interface)"
   ]
  },
  {
   "cell_type": "code",
   "execution_count": null,
   "metadata": {},
   "outputs": [],
   "source": [
    "import arcpy\n",
    "fc = \"points\"\n",
    "newfieldName = \"all\"\n",
    "arcpy.AddField_management(fc, newfieldName, \"DOUBLE\")\n",
    "expression = \"sum(!Field1!,!Field2!,!Field3!)\"\n",
    "codeblock = \"\"\"\n",
    "def sum(*fields):\n",
    "    sum = 0\n",
    "    for field in fields:\n",
    "        sum += field\n",
    "    return sum\n",
    "\"\"\"\n",
    "arcpy.CalculateField_management(fc, newfieldName, expression, \"\", codeblock)"
   ]
  },
  {
   "cell_type": "markdown",
   "metadata": {},
   "source": [
    "**Edit this block to answer the questions**\n",
    "\n",
    "Q9: line by line, describe what was done by the code in the block above. 10 pnts\n",
    "\n",
    "Q10: Open the attribute table of \"points\" and check if the attribute table has a new filed \"all\" and correct values. Right-click the \"all\" field and click field calculator. Describe what you see in the field calculator interface. Compare the python code versus the field calculator interface. 10 pnts"
   ]
  },
  {
   "cell_type": "markdown",
   "metadata": {},
   "source": [
    "## Submit the assignment ontime (10 pnts)\n",
    "\n",
    "- Late penalty is 10 points from here"
   ]
  }
 ],
 "metadata": {
  "kernelspec": {
   "display_name": "arcgispro-py3",
   "language": "python",
   "name": "python3"
  },
  "language_info": {
   "codemirror_mode": {
    "name": "ipython",
    "version": 3
   },
   "file_extension": ".py",
   "mimetype": "text/x-python",
   "name": "python",
   "nbconvert_exporter": "python",
   "pygments_lexer": "ipython3",
   "version": "3.11.8"
  }
 },
 "nbformat": 4,
 "nbformat_minor": 2
}
