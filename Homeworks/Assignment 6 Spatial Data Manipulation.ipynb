{
 "cells": [
  {
   "cell_type": "markdown",
   "metadata": {},
   "source": [
    "# Introduction\n",
    " In this assignment, you will do exercises on arcpy.Exists(), arcpy.Walk(), arcpy.da.Describe(), python list comprehension, arcpy.da.SearchCursor, and arcpy.da.InsertCursor(). In each section, a code block is provided but not ready to run. You need to add this notebook to ArcGIS Pro, modify each block to make it runable, keep the output message , and write an explanation of the code block. \n",
    "\n",
    " Data preparation: \n",
    " Use the same zip file from assignment 4 for this exercise. The zip file contains a geodatabase and a folder with shapefles. Download the data from the [data](../data) folder of the github website. Extract the zip file and use the geodatabase and the folder containing the shapefiles accordingly.  "
   ]
  },
  {
   "cell_type": "markdown",
   "metadata": {},
   "source": [
    "## Read a text file for data and write them into a feature class using InsertCursor\n",
    "\n",
    "- This code uses the points.csv file in the same folder of the notebook \n",
    "- Modify the geodatabase_path variable to make it work and write the \"points\" feature class in your geodatabase\n"
   ]
  },
  {
   "cell_type": "code",
   "execution_count": null,
   "metadata": {},
   "outputs": [],
   "source": [
    "import arcpy\n",
    "import csv\n",
    "\n",
    "# Prompt for user input\n",
    "csv_file_path = \"Enter the path to the CSV file: \"\n",
    "geodatabase_path = \"Enter the path to the geodatabase: \"\n",
    "feature_class_name = \"points\"\n",
    "\n",
    "# Determine the number of fields and field names from the CSV header\n",
    "with open(csv_file_path, 'r') as csv_file:\n",
    "    csv_reader = csv.reader(csv_file)\n",
    "    header = next(csv_reader)\n",
    "    num_fields = len(header)\n",
    "\n",
    "# Create a new point feature class\n",
    "sr = arcpy.SpatialReference(4326)  \n",
    "arcpy.CreateFeatureclass_management(geodatabase_path, feature_class_name, \"POINT\", spatial_reference=sr)\n",
    "\n",
    "# Add fields to the feature class based on the CSV header\n",
    "field_info = arcpy.ListFields(geodatabase_path + \"/\" + feature_class_name)\n",
    "field_names = [field.name for field in field_info]\n",
    "for field in header:\n",
    "    if field not in field_names:\n",
    "        arcpy.AddField_management(geodatabase_path + \"/\" + feature_class_name, field, \"DOUBLE\")\n",
    "\n",
    "# Create a cursor for inserting point features with additional fields\n",
    "cursor_fields = [\"SHAPE@X\", \"SHAPE@Y\"] + header\n",
    "with arcpy.da.InsertCursor(geodatabase_path + \"/\" + feature_class_name, cursor_fields) as cursor:\n",
    "    # Read data from the CSV file and create point features with attributes\n",
    "    with open(csv_file_path, 'r') as csv_file:\n",
    "        csv_reader = csv.reader(csv_file)\n",
    "        \n",
    "        # Skip the header row (if present)\n",
    "        next(csv_reader, None)\n",
    "        \n",
    "        for row in csv_reader:\n",
    "            x = float(row[0])\n",
    "            y = float(row[1])\n",
    "            additional_fields = row\n",
    "            cursor.insertRow((x, y) + tuple(additional_fields))\n",
    "\n",
    "print(f\"New point feature class '{feature_class_name}' created in '{geodatabase_path}' with {num_fields} fields.\")\n",
    "\n"
   ]
  },
  {
   "cell_type": "markdown",
   "metadata": {},
   "source": [
    "**Edit this block to answer these three questions**\n",
    "\n",
    "Q1: Line by line, explain what was done in the code. (20 pnts)\n",
    "\n",
    "Q2: What does the cod 4326 represent? (5 pnts)\n",
    "\n",
    "Q3: Explain what are SHAPE@X and SHAPE@Y (5 pnts)"
   ]
  },
  {
   "cell_type": "markdown",
   "metadata": {},
   "source": [
    "## Use arcpy.Exist()\n",
    "\n",
    "- This code checks the existence of a specified dataset within an ArcGIS workspace.\n",
    "- Fill the dataset_name and workspace_path variables with the database and the feature class name (points) from the last block\n",
    "- Print a message indicating whether the dataset exists or not."
   ]
  },
  {
   "cell_type": "code",
   "execution_count": null,
   "metadata": {},
   "outputs": [],
   "source": [
    "import arcpy\n",
    "import os\n",
    "\n",
    "# Prompt for user input\n",
    "dataset_name = \"points\"\n",
    "workspace_path = \"Enter the workspace path: \"\n",
    "fullname = os.path.join(workspace_path,dataset_name)\n",
    "# Check if the dataset exists\n",
    "if arcpy.Exists(fullname):\n",
    "    print(f\"The dataset '{dataset_name}' exists in the workspace.\")\n",
    "else:\n",
    "    print(f\"The dataset '{dataset_name}' does not exist in the workspace.\")"
   ]
  },
  {
   "cell_type": "markdown",
   "metadata": {},
   "source": [
    "**Edit this block to answer the question**\n",
    "\n",
    "Q4: Line by line describe what was done by the code in the block above. (10 pnts) \n",
    "\n"
   ]
  },
  {
   "cell_type": "markdown",
   "metadata": {},
   "source": [
    "## Use arcpy.Walk()\n",
    "\n",
    "- This code uses arcpy.Walk() to iterate through all feature datasets in the geodatabase you just used.\n",
    "- Modify the name of \"workspace\" to make the code work\n",
    "- Run the code to list all the feature classes within each dataset.\n"
   ]
  },
  {
   "cell_type": "code",
   "execution_count": null,
   "metadata": {},
   "outputs": [],
   "source": [
    "import arcpy\n",
    "\n",
    "# Define the workspace\n",
    "workspace = \"C:/path_to_geodatabase.gdb\" # note that you need to put a full path name for this workspace, even running it in ArcGIS Pro. \n",
    "\n",
    "# Use arcpy.Walk() to iterate through feature datasets\n",
    "for dirpath, dirnames, filenames in arcpy.da.Walk(workspace, datatype=\"FeatureClass\"):\n",
    "    for filename in filenames:\n",
    "        print(f\"Feature Class in {dirpath}: {filename}\")"
   ]
  },
  {
   "cell_type": "markdown",
   "metadata": {},
   "source": [
    "**Edit this block to answer the question**\n",
    "\n",
    "Q5: line by line, describe what was done by the code in the block above. (10 pnts)\n"
   ]
  },
  {
   "cell_type": "markdown",
   "metadata": {},
   "source": [
    "## Use List Comprehension\n",
    "\n",
    "- The following block uses list comprehension to generate a list of .shp files in a specified folder.\n",
    "- Choose the folder name from assignment 4 data/paris subfolder where many shapefiles are located and use it for folder_path\n",
    "- Run the code to print the list of file names\n",
    "\n",
    "\n",
    "- In the second block, the code combines the os.walk() function with the list comprehension to  list all shapefiles in a folder including subfolders\n",
    "\n"
   ]
  },
  {
   "cell_type": "code",
   "execution_count": null,
   "metadata": {},
   "outputs": [],
   "source": [
    "import os\n",
    "\n",
    "# Specify the folder path\n",
    "folder_path = \"C:/path_to_folder\"\n",
    "\n",
    "# Use list comprehension to generate a list of .shp files\n",
    "shp_files = [file for file in os.listdir(folder_path) if file.endswith(\".shp\")]\n",
    "\n",
    "# Print the list of .shp files\n",
    "print(\"Shapefiles in the folder:\")\n",
    "for shp_file in shp_files:\n",
    "    print(shp_file)"
   ]
  },
  {
   "cell_type": "code",
   "execution_count": null,
   "metadata": {},
   "outputs": [],
   "source": [
    "import os\n",
    "# Specify the folder path\n",
    "folder_path = \"C:/path_to_folder\"\n",
    "\n",
    "print(\"Shapefiles in the folder:\")\n",
    "for root, dirs, files in os.walk(folder_path):\n",
    "    shp_files = [file for file in files if file.endswith(\".shp\")]\n",
    "    for shp_file in shp_files:\n",
    "            print(shp_file)"
   ]
  },
  {
   "cell_type": "markdown",
   "metadata": {},
   "source": [
    "**Edit this block to answer the question**\n",
    "\n",
    "Q6: Describe what was done by the code in first blocks above. (10 pnts)\n",
    "\n",
    "Q7: Describe what was done by the code in second blocks above. (10 pnts)"
   ]
  },
  {
   "cell_type": "markdown",
   "metadata": {},
   "source": [
    "## Use arcpy.da.SearchCursor\n",
    "\n",
    "- This code uses arcpy.da.SearchCursor to extract attribute information from a feature class.\n",
    "- Enter the name of the \"points\" feature class and the field(s) from the feature class to extract.\n",
    "- Run and display the extracted data.\n"
   ]
  },
  {
   "cell_type": "code",
   "execution_count": null,
   "metadata": {},
   "outputs": [],
   "source": [
    "import arcpy\n",
    "\n",
    "# Prompt for user input\n",
    "fc_path = \"Enter the feature class path: \"\n",
    "fields_to_extract = [\"Enter the field(s) to extract (comma-separated): \"]\n",
    "\n",
    "# Use arcpy.da.SearchCursor to extract data\n",
    "with arcpy.da.SearchCursor(fc_path, fields_to_extract) as cursor:\n",
    "    print(\"Extracted Data:\")\n",
    "    for row in cursor:\n",
    "        print([row[i] for i in range(len(fields_to_extract))])"
   ]
  },
  {
   "cell_type": "markdown",
   "metadata": {},
   "source": [
    "**Edit this block to answer the question**\n",
    "\n",
    "Q8: Line by line, explain what was done in the code. 10 pnts "
   ]
  },
  {
   "cell_type": "markdown",
   "metadata": {},
   "source": [
    "## Use addField and field Calculator\n",
    "\n",
    "- Run the following code block (with \"points\" feature class added to the last map before you switched into the notebook interface)"
   ]
  },
  {
   "cell_type": "code",
   "execution_count": null,
   "metadata": {},
   "outputs": [],
   "source": [
    "import arcpy\n",
    "fc = \"points\"\n",
    "newfieldName = \"all\"\n",
    "arcpy.AddField_management(fc, newfieldName, \"DOUBLE\")\n",
    "expression = \"sum(!Field1!,!Field2!,!Field3!)\"\n",
    "codeblock = \"\"\"\n",
    "def sum(*fields):\n",
    "    sum = 0\n",
    "    for field in fields:\n",
    "        sum += field\n",
    "    return sum\n",
    "\"\"\"\n",
    "arcpy.CalculateField_management(fc, newfieldName, expression, \"\", codeblock)"
   ]
  },
  {
   "cell_type": "markdown",
   "metadata": {},
   "source": [
    "**Edit this block to answer the questions**\n",
    "\n",
    "Q9: line by line, describe what was done by the code in the block above. 10 pnts\n",
    "\n",
    "Q10: Open the attribute table of \"points\" and check if the attribute table has a new filed \"all\" and correct values. Right-click the \"all\" field and click field calculator. Describe what you see in the field calculator interface. Compare the python code versus the field calculator interface. 10 pnts"
   ]
  }
 ],
 "metadata": {
  "kernelspec": {
   "display_name": "arcgispro-py3",
   "language": "python",
   "name": "python3"
  },
  "language_info": {
   "codemirror_mode": {
    "name": "ipython",
    "version": 3
   },
   "file_extension": ".py",
   "mimetype": "text/x-python",
   "name": "python",
   "nbconvert_exporter": "python",
   "pygments_lexer": "ipython3",
   "version": "3.9.18"
  }
 },
 "nbformat": 4,
 "nbformat_minor": 2
}
