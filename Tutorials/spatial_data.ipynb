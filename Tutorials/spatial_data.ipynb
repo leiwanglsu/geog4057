{
 "cells": [
  {
   "cell_type": "code",
   "execution_count": null,
   "metadata": {},
   "outputs": [],
   "source": [
    "arcpy.Exists(\"states\")"
   ]
  },
  {
   "cell_type": "code",
   "execution_count": null,
   "metadata": {},
   "outputs": [],
   "source": [
    "desc1 = arcpy.Describe(\"states\")"
   ]
  },
  {
   "cell_type": "code",
   "execution_count": null,
   "metadata": {},
   "outputs": [],
   "source": [
    "desc2 = arcpy.da.Describe(\"states\")\n",
    "print(dir(desc2))"
   ]
  },
  {
   "cell_type": "markdown",
   "metadata": {},
   "source": [
    "## Get fields"
   ]
  },
  {
   "cell_type": "code",
   "execution_count": null,
   "metadata": {
    "scrolled": true
   },
   "outputs": [],
   "source": [
    "fields = [field.name for field in desc2['fields']]\n",
    "print(fields)"
   ]
  },
  {
   "cell_type": "markdown",
   "metadata": {},
   "source": [
    "## Do some query on the dataset"
   ]
  },
  {
   "cell_type": "code",
   "execution_count": null,
   "metadata": {},
   "outputs": [],
   "source": [
    "search_cursor = arcpy.da.SearchCursor(\"states\",[\"STATE_NAME\",\"POP_SQMI\"], where_clause = \"*\")\n",
    "search_cursor = arcpy.da.SearchCursor(\"states\",[\"STATE_NAME\",\"POP_SQMI\"], where_clause = \"POP_SQMI > 20\")\n",
    "search_cursor = arcpy.da.SearchCursor(\"states\",[\"STATE_NAME\",\"POP_SQMI\"], where_clause = \"STATE_NAME LIKE 'A%'\")"
   ]
  },
  {
   "cell_type": "code",
   "execution_count": null,
   "metadata": {
    "scrolled": true
   },
   "outputs": [],
   "source": [
    "for row in search_cursor:\n",
    "    print(row)"
   ]
  },
  {
   "cell_type": "markdown",
   "metadata": {},
   "source": [
    "## Use geometry tokens"
   ]
  },
  {
   "cell_type": "markdown",
   "metadata": {},
   "source": [
    "### List of geomtry tokens from arcgis\n",
    "SHAPE@ – Full geometry object.\n",
    "SHAPE@XY – Centroid coordinates as a tuple (X, Y).\n",
    "SHAPE@TRUECENTROID – True centroid coordinates as a tuple (X, Y).\n",
    "SHAPE@X – X coordinate of the centroid.\n",
    "SHAPE@Y – Y coordinate of the centroid.\n",
    "SHAPE@Z – Z coordinate (elevation).\n",
    "SHAPE@M – M value (measure).\n",
    "SHAPE@LENGTH – Length of the geometry (for lines/polygons).\n",
    "SHAPE@AREA – Area of the geometry (for polygons).\n",
    "SHAPE@WKT – Well-Known Text (WKT) representation of the geometry.\n",
    "SHAPE@WKB – Well-Known Binary (WKB) representation of the geometry.\n",
    "SHAPE@JSON – Geometry as a JSON string."
   ]
  },
  {
   "cell_type": "code",
   "execution_count": null,
   "metadata": {},
   "outputs": [],
   "source": [
    "search_cursor = arcpy.da.SearchCursor(\"states\",[\"OID@\",\"SHAPE@\",\"STATE_NAME\",\"POP2010\"], where_clause = \"*\")\n",
    "for row in search_cursor:\n",
    "    print(row)"
   ]
  },
  {
   "cell_type": "code",
   "execution_count": null,
   "metadata": {},
   "outputs": [],
   "source": [
    "search_cursor = arcpy.da.SearchCursor(\"states\",[\"OID@\",\"SHAPE@AREA\",\"STATE_NAME\",\"POP2010\"], where_clause = \"*\")\n",
    "for row in search_cursor:\n",
    "    print(f\"{row[2]} has a population density of {row[3] / row[1]}\")"
   ]
  },
  {
   "cell_type": "code",
   "execution_count": null,
   "metadata": {},
   "outputs": [],
   "source": [
    "#dir(search_cursor)\n",
    "#search_cursor.reset()\n",
    "search_cursor.next()"
   ]
  },
  {
   "cell_type": "markdown",
   "metadata": {},
   "source": [
    "## Geometries"
   ]
  },
  {
   "cell_type": "code",
   "execution_count": null,
   "metadata": {},
   "outputs": [],
   "source": [
    "search_cursor = arcpy.da.SearchCursor(\"states\",[\"OID@\",\"SHAPE@\",\"STATE_NAME\",\"POP2010\"], where_clause = \"*\")\n",
    "geom = search_cursor.next()[1]"
   ]
  },
  {
   "cell_type": "code",
   "execution_count": null,
   "metadata": {},
   "outputs": [],
   "source": [
    "#print(dir(geom))\n",
    "#print(type(geom))\n",
    "#geom.spatialReference.name\n",
    "geom.JSON\n",
    "#help(geom.getArea)\n",
    "geom.getArea('GEODESIC',\"SQUAREMILES\")"
   ]
  },
  {
   "cell_type": "code",
   "execution_count": 2,
   "metadata": {
    "scrolled": true
   },
   "outputs": [
    {
     "data": {
      "image/svg+xml": [
       "<svg xmlns=\"http://www.w3.org/2000/svg\" xmlns:xlink=\"http://www.w3.org/1999/xlink\" width=\"100.0\" height=\"100.0\" viewBox=\"3.9001599999999996 51.378424 2.0 2.0\" preserveAspectRatio=\"xMinYMin meet\"><g transform=\"matrix(1,0,0,-1,0,104.756848)\"><circle cx=\"4.90016\" cy=\"52.378424\" r=\"0.06\" stroke=\"#555555\" stroke-width=\"0.02\" fill=\"#66cc99\" opacity=\"0.6\" /></g></svg>"
      ],
      "text/plain": [
       "<PointGeometry object at 0x20982c55610[0x2098ea563d0]>"
      ]
     },
     "execution_count": 2,
     "metadata": {},
     "output_type": "execute_result"
    }
   ],
   "source": [
    "import arcpy\n",
    "point = arcpy.Point(4.900160, 52.378424)\n",
    "pointgeo = arcpy.PointGeometry(point, 4326)\n",
    "pointgeo"
   ]
  },
  {
   "cell_type": "code",
   "execution_count": 3,
   "metadata": {},
   "outputs": [
    {
     "name": "stdout",
     "output_type": "stream",
     "text": [
      "141.4213562373095\n"
     ]
    },
    {
     "data": {
      "image/svg+xml": [
       "<svg xmlns=\"http://www.w3.org/2000/svg\" xmlns:xlink=\"http://www.w3.org/1999/xlink\" width=\"108.0\" height=\"108.0\" viewBox=\"-4.0 -4.0 108.0 108.0\" preserveAspectRatio=\"xMinYMin meet\"><g transform=\"matrix(1,0,0,-1,0,100.0)\"><g><polyline fill=\"none\" stroke=\"#66cc99\" stroke-width=\"2.0\" points=\"0,0 100,100\" opacity=\"0.8\" /></g></g></svg>"
      ],
      "text/plain": [
       "<Polyline object at 0x20990b10990[0x209ffbd44b0]>"
      ]
     },
     "execution_count": 3,
     "metadata": {},
     "output_type": "execute_result"
    }
   ],
   "source": [
    "point1 = arcpy.Point(0, 0)\n",
    "point2 = arcpy.Point(100, 100)\n",
    "array = arcpy.Array([point1, point2])\n",
    "polyline = arcpy.Polyline(array)\n",
    "print(polyline.length)\n",
    "polyline"
   ]
  },
  {
   "cell_type": "code",
   "execution_count": 4,
   "metadata": {},
   "outputs": [
    {
     "name": "stdout",
     "output_type": "stream",
     "text": [
      "2500.0\n"
     ]
    },
    {
     "data": {
      "image/svg+xml": [
       "<svg xmlns=\"http://www.w3.org/2000/svg\" xmlns:xlink=\"http://www.w3.org/1999/xlink\" width=\"108.0\" height=\"100.0\" viewBox=\"-4.0 -4.0 108.0 58.0\" preserveAspectRatio=\"xMinYMin meet\"><g transform=\"matrix(1,0,0,-1,0,50.0)\"><path fill-rule=\"evenodd\" fill=\"#66cc99\" stroke=\"#555555\" stroke-width=\"2.0\" opacity=\"0.6\" d=\" M 0,0 L 50,50 L 100,0 L 0,0 z\" /></g></svg>"
      ],
      "text/plain": [
       "<Polygon object at 0x20982767010[0x20982daeee0]>"
      ]
     },
     "execution_count": 4,
     "metadata": {},
     "output_type": "execute_result"
    }
   ],
   "source": [
    "import arcpy\n",
    "point1 = arcpy.Point(0,0)\n",
    "point2 = arcpy.Point(100, 0)\n",
    "point3 = arcpy.Point(50, 50)\n",
    "array = arcpy.Array([point1, point2, point3, point1])\n",
    "polygon = arcpy.Polygon(array)\n",
    "print(polygon.area)\n",
    "polygon"
   ]
  },
  {
   "cell_type": "code",
   "execution_count": null,
   "metadata": {},
   "outputs": [
    {
     "ename": "RuntimeError",
     "evalue": "DescribeGeometry: Error in getting part from geometry",
     "output_type": "error",
     "traceback": [
      "\u001b[1;31m---------------------------------------------------------------------------\u001b[0m",
      "\u001b[1;31mRuntimeError\u001b[0m                              Traceback (most recent call last)",
      "Cell \u001b[1;32mIn[10], line 20\u001b[0m\n\u001b[0;32m     17\u001b[0m polygon_with_hole \u001b[38;5;241m=\u001b[39m arcpy\u001b[38;5;241m.\u001b[39mPolygon(polygon_array)\n\u001b[0;32m     18\u001b[0m polygon_with_hole\n\u001b[1;32m---> 20\u001b[0m polygon_with_hole\u001b[38;5;241m.\u001b[39mgetPart(\u001b[38;5;241m1\u001b[39m)\n",
      "File \u001b[1;32mc:\\Program Files\\ArcGIS\\Pro\\Resources\\ArcPy\\arcpy\\arcobjects\\arcobjects.py:1462\u001b[0m, in \u001b[0;36mGeometry.getPart\u001b[1;34m(self, *args)\u001b[0m\n\u001b[0;32m   1454\u001b[0m \u001b[38;5;250m\u001b[39m\u001b[38;5;124;03m\"\"\"Geometry.getPart({index})\u001b[39;00m\n\u001b[0;32m   1455\u001b[0m \n\u001b[0;32m   1456\u001b[0m \u001b[38;5;124;03m   Returns an array of point objects for a particular part of geometry\u001b[39;00m\n\u001b[1;32m   (...)\u001b[0m\n\u001b[0;32m   1459\u001b[0m \u001b[38;5;124;03m     index{Integer}:\u001b[39;00m\n\u001b[0;32m   1460\u001b[0m \u001b[38;5;124;03m   The index position of the geometry.\"\"\"\u001b[39;00m\n\u001b[0;32m   1461\u001b[0m \u001b[38;5;28;01mfrom\u001b[39;00m \u001b[38;5;21;01marcpy\u001b[39;00m\u001b[38;5;21;01m.\u001b[39;00m\u001b[38;5;21;01mgeoprocessing\u001b[39;00m\u001b[38;5;21;01m.\u001b[39;00m\u001b[38;5;21;01m_base\u001b[39;00m \u001b[38;5;28;01mimport\u001b[39;00m gp_fixargs\n\u001b[1;32m-> 1462\u001b[0m \u001b[38;5;28;01mreturn\u001b[39;00m convertArcObjectToPythonObject(\u001b[38;5;28mself\u001b[39m\u001b[38;5;241m.\u001b[39m_arc_object\u001b[38;5;241m.\u001b[39mGetPart(\u001b[38;5;241m*\u001b[39mgp_fixargs(args)))\n",
      "\u001b[1;31mRuntimeError\u001b[0m: DescribeGeometry: Error in getting part from geometry"
     ]
    }
   ],
   "source": [
    "# Create an empty array to store the rings\n",
    "polygon_array = arcpy.Array()\n",
    "\n",
    "# Define the exterior ring (outer boundary) as a list of points\n",
    "outer_ring = arcpy.Array([arcpy.Point(0, 0), arcpy.Point(10, 0), arcpy.Point(10, 10),\n",
    "                          arcpy.Point(0, 10), arcpy.Point(0, 0)])\n",
    "\n",
    "# Define the interior ring (hole) as a list of points\n",
    "inner_ring = arcpy.Array([arcpy.Point(3, 3), arcpy.Point(7, 3), arcpy.Point(7, 7),\n",
    "                          arcpy.Point(3, 7), arcpy.Point(3, 3)])\n",
    "\n",
    "# Add the rings to the array: first the outer ring, then the inner ring\n",
    "polygon_array.add(outer_ring)  # Add exterior ring first\n",
    "polygon_array.add(inner_ring)  # Add interior ring\n",
    "\n",
    "# Create a polygon from the array of rings\n",
    "polygon_with_hole = arcpy.Polygon(polygon_array)\n",
    "polygon_with_hole\n",
    "\n"
   ]
  },
  {
   "cell_type": "code",
   "execution_count": 15,
   "metadata": {},
   "outputs": [
    {
     "data": {
      "image/svg+xml": [
       "<svg xmlns=\"http://www.w3.org/2000/svg\" xmlns:xlink=\"http://www.w3.org/1999/xlink\" width=\"108.0\" height=\"108.0\" viewBox=\"-4.0 -4.0 108.0 108.0\" preserveAspectRatio=\"xMinYMin meet\"><g transform=\"matrix(1,0,0,-1,0,100.0)\"><path fill-rule=\"evenodd\" fill=\"#66cc99\" stroke=\"#555555\" stroke-width=\"2.0\" opacity=\"0.6\" d=\" M 0,0 L 0,100 L 100,100 L 100,0 L 0,0 M 50,50 L 60,50 L 60,60 L 50,60 L 50,50 z\" /></g></svg>"
      ],
      "text/plain": [
       "<Polygon object at 0x209893f2150[0x2098912f300]>"
      ]
     },
     "execution_count": 15,
     "metadata": {},
     "output_type": "execute_result"
    }
   ],
   "source": [
    "#create a multipart polygon\n",
    "import arcpy\n",
    "point1 = arcpy.Point(0,0)\n",
    "point2 = arcpy.Point(100, 0)\n",
    "point3 = arcpy.Point(100, 100)\n",
    "point4 = arcpy.Point(0, 100)\n",
    "array1 = arcpy.Array([point1, point2, point3, point4, point1])\n",
    "point5 = arcpy.Point(50, 50)\n",
    "point6 = arcpy.Point(60, 50)\n",
    "point7 = arcpy.Point(60, 60)\n",
    "point8 = arcpy.Point(50, 60)\n",
    "array2 = arcpy.Array([point5, point6, point7, point8, point5])\n",
    "multipart_polygon = arcpy.Polygon(arcpy.Array([array1, array2]))\n",
    "multipart_polygon\n"
   ]
  },
  {
   "cell_type": "code",
   "execution_count": 6,
   "metadata": {},
   "outputs": [
    {
     "name": "stdout",
     "output_type": "stream",
     "text": [
      "0 0 NaN NaN\n",
      "0 10 NaN NaN\n",
      "10 10 NaN NaN\n",
      "10 0 NaN NaN\n",
      "0 0 NaN NaN\n",
      "None\n",
      "3 3 NaN NaN\n",
      "7 3 NaN NaN\n",
      "7 7 NaN NaN\n",
      "3 7 NaN NaN\n",
      "3 3 NaN NaN\n"
     ]
    }
   ],
   "source": [
    "for part in polygon_with_hole:\n",
    "    for pnt in part:\n",
    "        print(pnt)"
   ]
  },
  {
   "cell_type": "markdown",
   "metadata": {},
   "source": [
    "### Some geometry calculations\n",
    "\n",
    "- Buffer\n",
    "- Intersect\n",
    "- Union\n",
    "- Difference\n",
    "- Convex Hull \n",
    "- Spatial relationships: contain, within, overlaps, touches, crosses\n",
    "- Boundary, centroid, extent\n",
    "- Project: projectAs"
   ]
  },
  {
   "cell_type": "code",
   "execution_count": null,
   "metadata": {},
   "outputs": [],
   "source": [
    "coordlist = [[523017.4, 4260650.0],\n",
    "             [523125.8, 4260732.6],\n",
    "             [523084.1, 4260787.2]]\n",
    "pointlist = []\n",
    "sr = arcpy.SpatialReference(\"NAD 1983 UTM Zone 10N\")\n",
    "for x, y in coordlist:\n",
    "    point = arcpy.Point(x,y)\n",
    "    pointgeometry = arcpy.PointGeometry(point, sr)\n",
    "    pointlist.append(pointgeometry)\n",
    "    \n",
    "pointlist"
   ]
  },
  {
   "cell_type": "code",
   "execution_count": null,
   "metadata": {},
   "outputs": [],
   "source": [
    "buffer1 = pointlist[0].buffer(100)\n",
    "buffer2 = pointlist[1].buffer(100)\n",
    "#buffer3 = buffer2.intersect(buffer1,4)\n",
    "buffer3 = buffer2.difference(buffer1)\n"
   ]
  },
  {
   "cell_type": "code",
   "execution_count": null,
   "metadata": {},
   "outputs": [],
   "source": [
    "buffer4 = buffer3.projectAs(arcpy.SpatialReference(4326))\n",
    "buffer4.spatialReference.name"
   ]
  },
  {
   "cell_type": "code",
   "execution_count": null,
   "metadata": {},
   "outputs": [],
   "source": []
  },
  {
   "cell_type": "code",
   "execution_count": null,
   "metadata": {},
   "outputs": [],
   "source": [
    "import arcpy\n",
    "import csv\n",
    "\n",
    "# Prompt for user input\n",
    "csv_file_path = r\"C:\\Users\\leiwang\\Documents\\geog4057\\Homeworks\\points.csv\"\n",
    "geodatabase_path = r\"C:\\Users\\leiwang\\Documents\\ArcGIS\\Projects\\GEOG4057\\GEOG4057.gdb\"\n",
    "feature_class_name = \"points\"\n",
    "\n",
    "# Determine the number of fields and field names from the CSV header\n",
    "with open(csv_file_path, 'r') as csv_file:\n",
    "    csv_reader = csv.reader(csv_file)\n",
    "    header = next(csv_reader)\n",
    "    num_fields = len(header)\n",
    "\n",
    "# Create a new point feature class\n",
    "sr = arcpy.SpatialReference(4326)  \n",
    "arcpy.CreateFeatureclass_management(geodatabase_path, feature_class_name, \"POINT\", spatial_reference=sr)\n",
    "\n",
    "# Add fields to the feature class based on the CSV header\n",
    "field_info = arcpy.ListFields(geodatabase_path + \"/\" + feature_class_name)\n",
    "field_names = [field.name for field in field_info]\n",
    "for field in header:\n",
    "    if field not in field_names:\n",
    "        arcpy.AddField_management(geodatabase_path + \"/\" + feature_class_name, field, \"DOUBLE\")\n",
    "\n",
    "# Create a cursor for inserting point features with additional fields\n",
    "cursor_fields = [\"SHAPE@X\", \"SHAPE@Y\"] + header\n",
    "with arcpy.da.InsertCursor(geodatabase_path + \"/\" + feature_class_name, cursor_fields) as cursor:\n",
    "    # Read data from the CSV file and create point features with attributes\n",
    "    with open(csv_file_path, 'r') as csv_file:\n",
    "        csv_reader = csv.reader(csv_file)\n",
    "        \n",
    "        # Skip the header row (if present)\n",
    "        next(csv_reader, None)\n",
    "        \n",
    "        for row in csv_reader:\n",
    "            x = float(row[0])\n",
    "            y = float(row[1])\n",
    "            additional_fields = row\n",
    "            cursor.insertRow((x, y) + tuple(additional_fields))\n",
    "\n",
    "print(f\"New point feature class '{feature_class_name}' created in '{geodatabase_path}' with {num_fields} fields.\")\n"
   ]
  },
  {
   "cell_type": "code",
   "execution_count": null,
   "metadata": {},
   "outputs": [],
   "source": [
    "import arcpy\n",
    "import csv\n",
    "import os\n",
    "\n",
    "# Prompt for user input\n",
    "csv_file_path = \"Enter the path to the CSV file: \"\n",
    "geodatabase_path = \"Enter the path to the geodatabase: \"\n",
    "feature_class_name = \"points\"\n",
    "\n",
    "# Determine the number of fields and field names from the CSV header\n",
    "with open(csv_file_path, 'r') as csv_file:\n",
    "    csv_reader = csv.reader(csv_file)\n",
    "    header = next(csv_reader)\n",
    "    num_fields = len(header)\n",
    "\n",
    "# Create SpatialReference objects: one for NAD83 and one for Albers Equal Area Contiguous USA USGS \n",
    "sr_gcs = arcpy.SpatialReference(4269) # for NAD83   \n",
    "sr_albsers = arcpy.SpatialReference(102039)\n",
    "# Create a new point feature class\n",
    "arcpy.CreateFeatureclass_management(geodatabase_path, feature_class_name, \"POINT_albers\", spatial_reference=sr_albsers)\n",
    "fcName = os.path.join(geodatabase_path,feature_class_name)\n",
    "# Add fields to the feature class based on the CSV header\n",
    "\n",
    "# first, read the exisint fields \n",
    "describe = arcpy.da.Describe(fcName)\n",
    "field_names = [field.name for field in describe[\"fields\"]]\n",
    "\n",
    "\n",
    "for field in header:\n",
    "    if field not in field_names:\n",
    "        arcpy.AddField_management(fcName, field, \"TEXT\")\n",
    "\n",
    "# Create a cursor for inserting point features with additional fields\n",
    "cursor_fields = [\"SHAPE@\"] + header\n",
    "with arcpy.da.InsertCursor(fcName, cursor_fields) as cursor:\n",
    "    # Read data from the CSV file and create point features with attributes\n",
    "    with open(csv_file_path, 'r') as csv_file:\n",
    "        csv_reader = csv.reader(csv_file)\n",
    "        \n",
    "        # Skip the header row (if present)\n",
    "        next(csv_reader, None)\n",
    "        \n",
    "        for table_value in csv_reader:\n",
    "            x = float(table_value[0]) # note that the first two fields in the csv must be longitude and latitude\n",
    "            y = float(table_value[1])\n",
    "            pnt = arcpy.PointGeometry((x,y),sr_gcs)\n",
    "            pnt_alberse = pnt.projectAs(sr_albsers)\n",
    "\n",
    "            cursor.insertRow(pnt_alberse + table_value)\n",
    "\n",
    "print(f\"New point feature class '{feature_class_name}' created in '{geodatabase_path}' with {num_fields} fields.\")"
   ]
  }
 ],
 "metadata": {
  "kernelspec": {
   "display_name": "arcgispro-py3",
   "language": "python",
   "name": "python3"
  },
  "language_info": {
   "codemirror_mode": {
    "name": "ipython",
    "version": 3
   },
   "file_extension": ".py",
   "mimetype": "text/x-python",
   "name": "python",
   "nbconvert_exporter": "python",
   "pygments_lexer": "ipython3",
   "version": "3.11.10"
  }
 },
 "nbformat": 4,
 "nbformat_minor": 2
}
