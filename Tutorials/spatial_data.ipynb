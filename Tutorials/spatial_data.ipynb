{
 "cells": [
  {
   "cell_type": "code",
   "execution_count": null,
   "metadata": {},
   "outputs": [],
   "source": [
    "arcpy.Exists(\"states\")"
   ]
  },
  {
   "cell_type": "code",
   "execution_count": null,
   "metadata": {},
   "outputs": [],
   "source": [
    "desc1 = arcpy.Describe(\"states\")"
   ]
  },
  {
   "cell_type": "code",
   "execution_count": null,
   "metadata": {},
   "outputs": [],
   "source": [
    "desc2 = arcpy.da.Describe(\"states\")\n",
    "print(dir(desc2))"
   ]
  },
  {
   "cell_type": "markdown",
   "metadata": {},
   "source": [
    "## Get fields"
   ]
  },
  {
   "cell_type": "code",
   "execution_count": null,
   "metadata": {
    "scrolled": true
   },
   "outputs": [],
   "source": [
    "fields = [field.name for field in desc2['fields']]\n",
    "print(fields)"
   ]
  },
  {
   "cell_type": "markdown",
   "metadata": {},
   "source": [
    "## Do some query on the dataset"
   ]
  },
  {
   "cell_type": "code",
   "execution_count": null,
   "metadata": {},
   "outputs": [],
   "source": [
    "search_cursor = arcpy.da.SearchCursor(\"states\",[\"STATE_NAME\",\"POP_SQMI\"], where_clause = \"*\")\n",
    "search_cursor = arcpy.da.SearchCursor(\"states\",[\"STATE_NAME\",\"POP_SQMI\"], where_clause = \"POP_SQMI > 20\")\n",
    "search_cursor = arcpy.da.SearchCursor(\"states\",[\"STATE_NAME\",\"POP_SQMI\"], where_clause = \"STATE_NAME LIKE 'A%'\")"
   ]
  },
  {
   "cell_type": "code",
   "execution_count": null,
   "metadata": {
    "scrolled": true
   },
   "outputs": [],
   "source": [
    "for row in search_cursor:\n",
    "    print(row)"
   ]
  },
  {
   "cell_type": "markdown",
   "metadata": {},
   "source": [
    "## Use geometry tokens"
   ]
  },
  {
   "cell_type": "markdown",
   "metadata": {},
   "source": [
    "### List of geomtry tokens from arcgis\n",
    "SHAPE@ – Full geometry object.\n",
    "SHAPE@XY – Centroid coordinates as a tuple (X, Y).\n",
    "SHAPE@TRUECENTROID – True centroid coordinates as a tuple (X, Y).\n",
    "SHAPE@X – X coordinate of the centroid.\n",
    "SHAPE@Y – Y coordinate of the centroid.\n",
    "SHAPE@Z – Z coordinate (elevation).\n",
    "SHAPE@M – M value (measure).\n",
    "SHAPE@LENGTH – Length of the geometry (for lines/polygons).\n",
    "SHAPE@AREA – Area of the geometry (for polygons).\n",
    "SHAPE@WKT – Well-Known Text (WKT) representation of the geometry.\n",
    "SHAPE@WKB – Well-Known Binary (WKB) representation of the geometry.\n",
    "SHAPE@JSON – Geometry as a JSON string."
   ]
  },
  {
   "cell_type": "code",
   "execution_count": null,
   "metadata": {},
   "outputs": [],
   "source": [
    "search_cursor = arcpy.da.SearchCursor(\"states\",[\"OID@\",\"SHAPE@\",\"STATE_NAME\",\"POP2010\"], where_clause = \"*\")\n",
    "for row in search_cursor:\n",
    "    print(row)"
   ]
  },
  {
   "cell_type": "code",
   "execution_count": null,
   "metadata": {},
   "outputs": [],
   "source": [
    "search_cursor = arcpy.da.SearchCursor(\"states\",[\"OID@\",\"SHAPE@AREA\",\"STATE_NAME\",\"POP2010\"], where_clause = \"*\")\n",
    "for row in search_cursor:\n",
    "    print(f\"{row[2]} has a population density of {row[3] / row[1]}\")"
   ]
  },
  {
   "cell_type": "code",
   "execution_count": null,
   "metadata": {},
   "outputs": [],
   "source": [
    "#dir(search_cursor)\n",
    "#search_cursor.reset()\n",
    "search_cursor.next()"
   ]
  },
  {
   "cell_type": "markdown",
   "metadata": {},
   "source": [
    "## Geometries"
   ]
  },
  {
   "cell_type": "code",
   "execution_count": null,
   "metadata": {},
   "outputs": [],
   "source": [
    "search_cursor = arcpy.da.SearchCursor(\"states\",[\"OID@\",\"SHAPE@\",\"STATE_NAME\",\"POP2010\"], where_clause = \"*\")\n",
    "geom = search_cursor.next()[1]"
   ]
  },
  {
   "cell_type": "code",
   "execution_count": null,
   "metadata": {},
   "outputs": [],
   "source": [
    "#print(dir(geom))\n",
    "#print(type(geom))\n",
    "#geom.spatialReference.name\n",
    "geom.JSON\n",
    "#help(geom.getArea)\n",
    "geom.getArea('GEODESIC',\"SQUAREMILES\")"
   ]
  },
  {
   "cell_type": "code",
   "execution_count": null,
   "metadata": {
    "scrolled": true
   },
   "outputs": [],
   "source": [
    "geom"
   ]
  },
  {
   "cell_type": "markdown",
   "metadata": {},
   "source": [
    "### Some geometry calculations\n",
    "\n",
    "- Buffer\n",
    "- Intersect\n",
    "- Union\n",
    "- Difference\n",
    "- Convex Hull \n",
    "- Spatial relationships: contain, within, overlaps, touches, crosses\n",
    "- Boundary, centroid, extent\n",
    "- Project: projectAs"
   ]
  },
  {
   "cell_type": "code",
   "execution_count": null,
   "metadata": {},
   "outputs": [],
   "source": [
    "coordlist = [[523017.4, 4260650.0],\n",
    "             [523125.8, 4260732.6],\n",
    "             [523084.1, 4260787.2]]\n",
    "pointlist = []\n",
    "sr = arcpy.SpatialReference(\"NAD 1983 UTM Zone 10N\")\n",
    "for x, y in coordlist:\n",
    "    point = arcpy.Point(x,y)\n",
    "    pointgeometry = arcpy.PointGeometry(point, sr)\n",
    "    pointlist.append(pointgeometry)\n",
    "    \n",
    "pointlist"
   ]
  },
  {
   "cell_type": "code",
   "execution_count": null,
   "metadata": {},
   "outputs": [],
   "source": [
    "buffer1 = pointlist[0].buffer(100)\n",
    "buffer2 = pointlist[1].buffer(100)\n",
    "#buffer3 = buffer2.intersect(buffer1,4)\n",
    "buffer3 = buffer2.difference(buffer1)\n"
   ]
  },
  {
   "cell_type": "code",
   "execution_count": null,
   "metadata": {},
   "outputs": [],
   "source": [
    "buffer4 = buffer3.projectAs(arcpy.SpatialReference(4326))\n",
    "buffer4.spatialReference.name"
   ]
  },
  {
   "cell_type": "code",
   "execution_count": null,
   "metadata": {},
   "outputs": [],
   "source": []
  },
  {
   "cell_type": "code",
   "execution_count": null,
   "metadata": {},
   "outputs": [],
   "source": [
    "import arcpy\n",
    "import csv\n",
    "\n",
    "# Prompt for user input\n",
    "csv_file_path = r\"C:\\Users\\leiwang\\Documents\\geog4057\\Homeworks\\points.csv\"\n",
    "geodatabase_path = r\"C:\\Users\\leiwang\\Documents\\ArcGIS\\Projects\\GEOG4057\\GEOG4057.gdb\"\n",
    "feature_class_name = \"points\"\n",
    "\n",
    "# Determine the number of fields and field names from the CSV header\n",
    "with open(csv_file_path, 'r') as csv_file:\n",
    "    csv_reader = csv.reader(csv_file)\n",
    "    header = next(csv_reader)\n",
    "    num_fields = len(header)\n",
    "\n",
    "# Create a new point feature class\n",
    "sr = arcpy.SpatialReference(4326)  \n",
    "arcpy.CreateFeatureclass_management(geodatabase_path, feature_class_name, \"POINT\", spatial_reference=sr)\n",
    "\n",
    "# Add fields to the feature class based on the CSV header\n",
    "field_info = arcpy.ListFields(geodatabase_path + \"/\" + feature_class_name)\n",
    "field_names = [field.name for field in field_info]\n",
    "for field in header:\n",
    "    if field not in field_names:\n",
    "        arcpy.AddField_management(geodatabase_path + \"/\" + feature_class_name, field, \"DOUBLE\")\n",
    "\n",
    "# Create a cursor for inserting point features with additional fields\n",
    "cursor_fields = [\"SHAPE@X\", \"SHAPE@Y\"] + header\n",
    "with arcpy.da.InsertCursor(geodatabase_path + \"/\" + feature_class_name, cursor_fields) as cursor:\n",
    "    # Read data from the CSV file and create point features with attributes\n",
    "    with open(csv_file_path, 'r') as csv_file:\n",
    "        csv_reader = csv.reader(csv_file)\n",
    "        \n",
    "        # Skip the header row (if present)\n",
    "        next(csv_reader, None)\n",
    "        \n",
    "        for row in csv_reader:\n",
    "            x = float(row[0])\n",
    "            y = float(row[1])\n",
    "            additional_fields = row\n",
    "            cursor.insertRow((x, y) + tuple(additional_fields))\n",
    "\n",
    "print(f\"New point feature class '{feature_class_name}' created in '{geodatabase_path}' with {num_fields} fields.\")\n"
   ]
  },
  {
   "cell_type": "code",
   "execution_count": null,
   "metadata": {},
   "outputs": [],
   "source": [
    "import arcpy\n",
    "import csv\n",
    "import os\n",
    "\n",
    "# Prompt for user input\n",
    "csv_file_path = \"Enter the path to the CSV file: \"\n",
    "geodatabase_path = \"Enter the path to the geodatabase: \"\n",
    "feature_class_name = \"points\"\n",
    "\n",
    "# Determine the number of fields and field names from the CSV header\n",
    "with open(csv_file_path, 'r') as csv_file:\n",
    "    csv_reader = csv.reader(csv_file)\n",
    "    header = next(csv_reader)\n",
    "    num_fields = len(header)\n",
    "\n",
    "# Create SpatialReference objects: one for NAD83 and one for Albers Equal Area Contiguous USA USGS \n",
    "sr_gcs = arcpy.SpatialReference(4269) # for NAD83   \n",
    "sr_albsers = arcpy.SpatialReference(102039)\n",
    "# Create a new point feature class\n",
    "arcpy.CreateFeatureclass_management(geodatabase_path, feature_class_name, \"POINT_albers\", spatial_reference=sr_albsers)\n",
    "fcName = os.path.join(geodatabase_path,feature_class_name)\n",
    "# Add fields to the feature class based on the CSV header\n",
    "\n",
    "# first, read the exisint fields \n",
    "describe = arcpy.da.Describe(fcName)\n",
    "field_names = [field.name for field in describe[\"fields\"]]\n",
    "\n",
    "\n",
    "for field in header:\n",
    "    if field not in field_names:\n",
    "        arcpy.AddField_management(fcName, field, \"TEXT\")\n",
    "\n",
    "# Create a cursor for inserting point features with additional fields\n",
    "cursor_fields = [\"SHAPE@\"] + header\n",
    "with arcpy.da.InsertCursor(fcName, cursor_fields) as cursor:\n",
    "    # Read data from the CSV file and create point features with attributes\n",
    "    with open(csv_file_path, 'r') as csv_file:\n",
    "        csv_reader = csv.reader(csv_file)\n",
    "        \n",
    "        # Skip the header row (if present)\n",
    "        next(csv_reader, None)\n",
    "        \n",
    "        for table_value in csv_reader:\n",
    "            x = float(table_value[0]) # note that the first two fields in the csv must be longitude and latitude\n",
    "            y = float(table_value[1])\n",
    "            pnt = arcpy.PointGeometry((x,y),sr_gcs)\n",
    "            pnt_alberse = pnt.projectAs(sr_albsers)\n",
    "\n",
    "            cursor.insertRow(pnt_alberse + table_value)\n",
    "\n",
    "print(f\"New point feature class '{feature_class_name}' created in '{geodatabase_path}' with {num_fields} fields.\")"
   ]
  }
 ],
 "metadata": {
  "kernelspec": {
   "display_name": "ArcGISPro",
   "language": "Python",
   "name": "python3"
  },
  "language_info": {
   "file_extension": ".py",
   "name": "python",
   "version": "3"
  }
 },
 "nbformat": 4,
 "nbformat_minor": 2
}
